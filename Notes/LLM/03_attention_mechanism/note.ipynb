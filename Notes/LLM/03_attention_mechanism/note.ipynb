{
 "cells": [
  {
   "cell_type": "markdown",
   "metadata": {},
   "source": [
    "0. 4 differnt variant of self-attention:\n",
    "    1. simplified self-attention\n",
    "    2. self-attention\n",
    "        - with trainable weight that form the basis of LLM\n",
    "    3. casual attention\n",
    "        - add mask to self attention, allow LLM generate 1 word at a time\n",
    "        - only consider current and previous input in sequence, ensure temporal order\n",
    "    4. multi-head attention\n",
    "        - extension of casual and self attention, to attend to information from different representation subspace\n",
    "\n",
    "1. problem with modeling long sequences\n",
    "    - pre-LLM architecture:\n",
    "        - when translate, cannot translate word by word due to grammatical structure difference\n",
    "        - common to use deep NN with encoder + decoder\n",
    "        - before transformer, RNN was the most famouse encoder-decoder architecture for language translation\n",
    "            - output from previous step fed as inpt to current step\n",
    "            - suit for sequential data like text\n",
    "            - encoder process input text 1 by 1 and update internal state in hidden layer\n",
    "            - decoder use the final hidden state to generate output\n",
    "            - limitation: e-d RNN cant directly access earlier hidden state from encoder during decoding phase\n",
    "                - only rely on current hidden state\n",
    "                - loss of context in complex sentence when dependencies across long distance\n",
    "\n",
    "2. capturing data dependencies with attention mechanism\n",
    "    - RNN dont have access to previous word, entire encoded input need to be in single hidden state before pass to decoder\n",
    "    - Bahdanau attention mechanism\n",
    "        - update on RNN\n",
    "        - decoder can selectively access different parts of input sequence at each decoding step\n",
    "    - self attention\n",
    "        - each position in input sequence to consider relevancy of all other position ( attend to)\n",
    "        - interact between position and weigh the importance\n",
    "\n",
    "3. attending to differnt parts of the input with self attention\n",
    "    - self:\n",
    "        - compute attention weight by relating differnt position of single input itself\n",
    "        - access and learn relation between parts of input\n",
    "        - traditional attention: focus on relationship between elements of 2 differnt sequences\n",
    "    - simple self attention\n",
    "        - goal of self attention: calculate context vector z for each element in input sequence\n",
    "            - context vector is like enriched embedding vector\n",
    "            - contain embedding vector of respective token +  EV of other token"
   ]
  },
  {
   "cell_type": "code",
   "execution_count": 1,
   "metadata": {},
   "outputs": [
    {
     "name": "stderr",
     "output_type": "stream",
     "text": [
      "c:\\Users\\wzcla\\OneDrive\\Desktop\\coding package\\learning-notes\\.venv\\Lib\\site-packages\\torch\\_subclasses\\functional_tensor.py:276: UserWarning: Failed to initialize NumPy: No module named 'numpy' (Triggered internally at C:\\actions-runner\\_work\\pytorch\\pytorch\\pytorch\\torch\\csrc\\utils\\tensor_numpy.cpp:81.)\n",
      "  cpu = _conversion_method_template(device=torch.device(\"cpu\"))\n"
     ]
    }
   ],
   "source": [
    "import torch\n",
    "inputs = torch.tensor(\n",
    " [[0.43, 0.15, 0.89], # Your (x^1)\n",
    " [0.55, 0.87, 0.66], # journey (x^2)\n",
    " [0.57, 0.85, 0.64], # starts (x^3)\n",
    " [0.22, 0.58, 0.33], # with (x^4)\n",
    " [0.77, 0.25, 0.10], # one (x^5)\n",
    " [0.05, 0.80, 0.55]] # step (x^6)\n",
    ")"
   ]
  }
 ],
 "metadata": {
  "kernelspec": {
   "display_name": ".venv",
   "language": "python",
   "name": "python3"
  },
  "language_info": {
   "codemirror_mode": {
    "name": "ipython",
    "version": 3
   },
   "file_extension": ".py",
   "mimetype": "text/x-python",
   "name": "python",
   "nbconvert_exporter": "python",
   "pygments_lexer": "ipython3",
   "version": "3.12.10"
  }
 },
 "nbformat": 4,
 "nbformat_minor": 2
}
